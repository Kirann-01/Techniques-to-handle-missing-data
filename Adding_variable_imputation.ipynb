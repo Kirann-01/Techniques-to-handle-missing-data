{
  "metadata": {
    "language_info": {
      "codemirror_mode": {
        "name": "python",
        "version": 3
      },
      "file_extension": ".py",
      "mimetype": "text/x-python",
      "name": "python",
      "nbconvert_exporter": "python",
      "pygments_lexer": "ipython3",
      "version": "3.8"
    },
    "kernelspec": {
      "name": "python",
      "display_name": "Python (Pyodide)",
      "language": "python"
    }
  },
  "nbformat_minor": 4,
  "nbformat": 4,
  "cells": [
    {
      "cell_type": "markdown",
      "source": "#### ADDING A VARIABLE TO CAPTURE NAN",
      "metadata": {}
    },
    {
      "cell_type": "code",
      "source": "import pandas as pd\ndf=pd.read_csv('train.csv',usecols=['BsmtQual','FireplaceQu','GarageType','SalePrice'])\ndf.head()",
      "metadata": {
        "trusted": true
      },
      "execution_count": 54,
      "outputs": [
        {
          "execution_count": 54,
          "output_type": "execute_result",
          "data": {
            "text/plain": "  BsmtQual FireplaceQu GarageType  SalePrice\n0       Gd         NaN     Attchd     208500\n1       Gd          TA     Attchd     181500\n2       Gd          TA     Attchd     223500\n3       TA          Gd     Detchd     140000\n4       Gd          TA     Attchd     250000",
            "text/html": "<div>\n<style scoped>\n    .dataframe tbody tr th:only-of-type {\n        vertical-align: middle;\n    }\n\n    .dataframe tbody tr th {\n        vertical-align: top;\n    }\n\n    .dataframe thead th {\n        text-align: right;\n    }\n</style>\n<table border=\"1\" class=\"dataframe\">\n  <thead>\n    <tr style=\"text-align: right;\">\n      <th></th>\n      <th>BsmtQual</th>\n      <th>FireplaceQu</th>\n      <th>GarageType</th>\n      <th>SalePrice</th>\n    </tr>\n  </thead>\n  <tbody>\n    <tr>\n      <th>0</th>\n      <td>Gd</td>\n      <td>NaN</td>\n      <td>Attchd</td>\n      <td>208500</td>\n    </tr>\n    <tr>\n      <th>1</th>\n      <td>Gd</td>\n      <td>TA</td>\n      <td>Attchd</td>\n      <td>181500</td>\n    </tr>\n    <tr>\n      <th>2</th>\n      <td>Gd</td>\n      <td>TA</td>\n      <td>Attchd</td>\n      <td>223500</td>\n    </tr>\n    <tr>\n      <th>3</th>\n      <td>TA</td>\n      <td>Gd</td>\n      <td>Detchd</td>\n      <td>140000</td>\n    </tr>\n    <tr>\n      <th>4</th>\n      <td>Gd</td>\n      <td>TA</td>\n      <td>Attchd</td>\n      <td>250000</td>\n    </tr>\n  </tbody>\n</table>\n</div>"
          },
          "metadata": {}
        }
      ]
    },
    {
      "cell_type": "code",
      "source": "import numpy as np\ndf['BsmtQual_var']=np.where(df['BsmtQual'].isnull(),1,0)",
      "metadata": {
        "trusted": true
      },
      "execution_count": 55,
      "outputs": []
    },
    {
      "cell_type": "code",
      "source": "df.head()",
      "metadata": {
        "trusted": true
      },
      "execution_count": 56,
      "outputs": [
        {
          "execution_count": 56,
          "output_type": "execute_result",
          "data": {
            "text/plain": "  BsmtQual FireplaceQu GarageType  SalePrice  BsmtQual_var\n0       Gd         NaN     Attchd     208500             0\n1       Gd          TA     Attchd     181500             0\n2       Gd          TA     Attchd     223500             0\n3       TA          Gd     Detchd     140000             0\n4       Gd          TA     Attchd     250000             0",
            "text/html": "<div>\n<style scoped>\n    .dataframe tbody tr th:only-of-type {\n        vertical-align: middle;\n    }\n\n    .dataframe tbody tr th {\n        vertical-align: top;\n    }\n\n    .dataframe thead th {\n        text-align: right;\n    }\n</style>\n<table border=\"1\" class=\"dataframe\">\n  <thead>\n    <tr style=\"text-align: right;\">\n      <th></th>\n      <th>BsmtQual</th>\n      <th>FireplaceQu</th>\n      <th>GarageType</th>\n      <th>SalePrice</th>\n      <th>BsmtQual_var</th>\n    </tr>\n  </thead>\n  <tbody>\n    <tr>\n      <th>0</th>\n      <td>Gd</td>\n      <td>NaN</td>\n      <td>Attchd</td>\n      <td>208500</td>\n      <td>0</td>\n    </tr>\n    <tr>\n      <th>1</th>\n      <td>Gd</td>\n      <td>TA</td>\n      <td>Attchd</td>\n      <td>181500</td>\n      <td>0</td>\n    </tr>\n    <tr>\n      <th>2</th>\n      <td>Gd</td>\n      <td>TA</td>\n      <td>Attchd</td>\n      <td>223500</td>\n      <td>0</td>\n    </tr>\n    <tr>\n      <th>3</th>\n      <td>TA</td>\n      <td>Gd</td>\n      <td>Detchd</td>\n      <td>140000</td>\n      <td>0</td>\n    </tr>\n    <tr>\n      <th>4</th>\n      <td>Gd</td>\n      <td>TA</td>\n      <td>Attchd</td>\n      <td>250000</td>\n      <td>0</td>\n    </tr>\n  </tbody>\n</table>\n</div>"
          },
          "metadata": {}
        }
      ]
    },
    {
      "cell_type": "code",
      "source": "#Finding the most frequent category in BsmtQual column\nfrequent=df['BsmtQual'].mode()[0]\nfrequent",
      "metadata": {
        "trusted": true
      },
      "execution_count": 57,
      "outputs": [
        {
          "execution_count": 57,
          "output_type": "execute_result",
          "data": {
            "text/plain": "'TA'"
          },
          "metadata": {}
        }
      ]
    },
    {
      "cell_type": "code",
      "source": "#Replacing the nan values in BsmtQual colum with frequent occuring values\ndf['BsmtQual'].fillna(frequent,inplace=True)",
      "metadata": {
        "trusted": true
      },
      "execution_count": 58,
      "outputs": []
    },
    {
      "cell_type": "code",
      "source": "df.head()",
      "metadata": {
        "trusted": true
      },
      "execution_count": 59,
      "outputs": [
        {
          "execution_count": 59,
          "output_type": "execute_result",
          "data": {
            "text/plain": "  BsmtQual FireplaceQu GarageType  SalePrice  BsmtQual_var\n0       Gd         NaN     Attchd     208500             0\n1       Gd          TA     Attchd     181500             0\n2       Gd          TA     Attchd     223500             0\n3       TA          Gd     Detchd     140000             0\n4       Gd          TA     Attchd     250000             0",
            "text/html": "<div>\n<style scoped>\n    .dataframe tbody tr th:only-of-type {\n        vertical-align: middle;\n    }\n\n    .dataframe tbody tr th {\n        vertical-align: top;\n    }\n\n    .dataframe thead th {\n        text-align: right;\n    }\n</style>\n<table border=\"1\" class=\"dataframe\">\n  <thead>\n    <tr style=\"text-align: right;\">\n      <th></th>\n      <th>BsmtQual</th>\n      <th>FireplaceQu</th>\n      <th>GarageType</th>\n      <th>SalePrice</th>\n      <th>BsmtQual_var</th>\n    </tr>\n  </thead>\n  <tbody>\n    <tr>\n      <th>0</th>\n      <td>Gd</td>\n      <td>NaN</td>\n      <td>Attchd</td>\n      <td>208500</td>\n      <td>0</td>\n    </tr>\n    <tr>\n      <th>1</th>\n      <td>Gd</td>\n      <td>TA</td>\n      <td>Attchd</td>\n      <td>181500</td>\n      <td>0</td>\n    </tr>\n    <tr>\n      <th>2</th>\n      <td>Gd</td>\n      <td>TA</td>\n      <td>Attchd</td>\n      <td>223500</td>\n      <td>0</td>\n    </tr>\n    <tr>\n      <th>3</th>\n      <td>TA</td>\n      <td>Gd</td>\n      <td>Detchd</td>\n      <td>140000</td>\n      <td>0</td>\n    </tr>\n    <tr>\n      <th>4</th>\n      <td>Gd</td>\n      <td>TA</td>\n      <td>Attchd</td>\n      <td>250000</td>\n      <td>0</td>\n    </tr>\n  </tbody>\n</table>\n</div>"
          },
          "metadata": {}
        }
      ]
    },
    {
      "cell_type": "code",
      "source": "import numpy as np\ndf['FireplaceQu_var']=np.where(df['FireplaceQu'].isnull(),1,0)\nfrequents=df['FireplaceQu'].mode()[0]\ndf['FireplaceQu'].fillna(frequents,inplace=True)",
      "metadata": {
        "trusted": true
      },
      "execution_count": 62,
      "outputs": []
    },
    {
      "cell_type": "code",
      "source": "#Nan value in the column is replaced by most freq value and 1 is placed in the new feature indicating a missing value\ndf.head()",
      "metadata": {
        "trusted": true
      },
      "execution_count": 64,
      "outputs": [
        {
          "execution_count": 64,
          "output_type": "execute_result",
          "data": {
            "text/plain": "  BsmtQual FireplaceQu GarageType  SalePrice  BsmtQual_var  FireplaceQu_var\n0       Gd          Gd     Attchd     208500             0                1\n1       Gd          TA     Attchd     181500             0                0\n2       Gd          TA     Attchd     223500             0                0\n3       TA          Gd     Detchd     140000             0                0\n4       Gd          TA     Attchd     250000             0                0",
            "text/html": "<div>\n<style scoped>\n    .dataframe tbody tr th:only-of-type {\n        vertical-align: middle;\n    }\n\n    .dataframe tbody tr th {\n        vertical-align: top;\n    }\n\n    .dataframe thead th {\n        text-align: right;\n    }\n</style>\n<table border=\"1\" class=\"dataframe\">\n  <thead>\n    <tr style=\"text-align: right;\">\n      <th></th>\n      <th>BsmtQual</th>\n      <th>FireplaceQu</th>\n      <th>GarageType</th>\n      <th>SalePrice</th>\n      <th>BsmtQual_var</th>\n      <th>FireplaceQu_var</th>\n    </tr>\n  </thead>\n  <tbody>\n    <tr>\n      <th>0</th>\n      <td>Gd</td>\n      <td>Gd</td>\n      <td>Attchd</td>\n      <td>208500</td>\n      <td>0</td>\n      <td>1</td>\n    </tr>\n    <tr>\n      <th>1</th>\n      <td>Gd</td>\n      <td>TA</td>\n      <td>Attchd</td>\n      <td>181500</td>\n      <td>0</td>\n      <td>0</td>\n    </tr>\n    <tr>\n      <th>2</th>\n      <td>Gd</td>\n      <td>TA</td>\n      <td>Attchd</td>\n      <td>223500</td>\n      <td>0</td>\n      <td>0</td>\n    </tr>\n    <tr>\n      <th>3</th>\n      <td>TA</td>\n      <td>Gd</td>\n      <td>Detchd</td>\n      <td>140000</td>\n      <td>0</td>\n      <td>0</td>\n    </tr>\n    <tr>\n      <th>4</th>\n      <td>Gd</td>\n      <td>TA</td>\n      <td>Attchd</td>\n      <td>250000</td>\n      <td>0</td>\n      <td>0</td>\n    </tr>\n  </tbody>\n</table>\n</div>"
          },
          "metadata": {}
        }
      ]
    },
    {
      "cell_type": "code",
      "source": "import numpy as np\ndf['GarageType_var']=np.where(df['GarageType'].isnull(),1,0)\nfrequents=df['GarageType'].mode()[0]\ndf['GarageType'].fillna(frequents,inplace=True)",
      "metadata": {
        "trusted": true
      },
      "execution_count": 66,
      "outputs": []
    },
    {
      "cell_type": "code",
      "source": "df.head()",
      "metadata": {
        "trusted": true
      },
      "execution_count": 67,
      "outputs": [
        {
          "execution_count": 67,
          "output_type": "execute_result",
          "data": {
            "text/plain": "  BsmtQual FireplaceQu GarageType  SalePrice  BsmtQual_var  FireplaceQu_var  \\\n0       Gd          Gd     Attchd     208500             0                1   \n1       Gd          TA     Attchd     181500             0                0   \n2       Gd          TA     Attchd     223500             0                0   \n3       TA          Gd     Detchd     140000             0                0   \n4       Gd          TA     Attchd     250000             0                0   \n\n   GarageType_var  \n0               0  \n1               0  \n2               0  \n3               0  \n4               0  ",
            "text/html": "<div>\n<style scoped>\n    .dataframe tbody tr th:only-of-type {\n        vertical-align: middle;\n    }\n\n    .dataframe tbody tr th {\n        vertical-align: top;\n    }\n\n    .dataframe thead th {\n        text-align: right;\n    }\n</style>\n<table border=\"1\" class=\"dataframe\">\n  <thead>\n    <tr style=\"text-align: right;\">\n      <th></th>\n      <th>BsmtQual</th>\n      <th>FireplaceQu</th>\n      <th>GarageType</th>\n      <th>SalePrice</th>\n      <th>BsmtQual_var</th>\n      <th>FireplaceQu_var</th>\n      <th>GarageType_var</th>\n    </tr>\n  </thead>\n  <tbody>\n    <tr>\n      <th>0</th>\n      <td>Gd</td>\n      <td>Gd</td>\n      <td>Attchd</td>\n      <td>208500</td>\n      <td>0</td>\n      <td>1</td>\n      <td>0</td>\n    </tr>\n    <tr>\n      <th>1</th>\n      <td>Gd</td>\n      <td>TA</td>\n      <td>Attchd</td>\n      <td>181500</td>\n      <td>0</td>\n      <td>0</td>\n      <td>0</td>\n    </tr>\n    <tr>\n      <th>2</th>\n      <td>Gd</td>\n      <td>TA</td>\n      <td>Attchd</td>\n      <td>223500</td>\n      <td>0</td>\n      <td>0</td>\n      <td>0</td>\n    </tr>\n    <tr>\n      <th>3</th>\n      <td>TA</td>\n      <td>Gd</td>\n      <td>Detchd</td>\n      <td>140000</td>\n      <td>0</td>\n      <td>0</td>\n      <td>0</td>\n    </tr>\n    <tr>\n      <th>4</th>\n      <td>Gd</td>\n      <td>TA</td>\n      <td>Attchd</td>\n      <td>250000</td>\n      <td>0</td>\n      <td>0</td>\n      <td>0</td>\n    </tr>\n  </tbody>\n</table>\n</div>"
          },
          "metadata": {}
        }
      ]
    },
    {
      "cell_type": "markdown",
      "source": "#### SUPPOSE IF THERE ARE MORE FREQUENT CATEGORIES WE MAKE NAN ITSELF A NEW CATEGORY",
      "metadata": {}
    },
    {
      "cell_type": "code",
      "source": "import pandas as pd\ndf=pd.read_csv('train.csv',usecols=['BsmtQual','FireplaceQu','GarageType','SalePrice'])\ndf.head()",
      "metadata": {
        "trusted": true
      },
      "execution_count": 69,
      "outputs": [
        {
          "execution_count": 69,
          "output_type": "execute_result",
          "data": {
            "text/plain": "  BsmtQual FireplaceQu GarageType  SalePrice\n0       Gd         NaN     Attchd     208500\n1       Gd          TA     Attchd     181500\n2       Gd          TA     Attchd     223500\n3       TA          Gd     Detchd     140000\n4       Gd          TA     Attchd     250000",
            "text/html": "<div>\n<style scoped>\n    .dataframe tbody tr th:only-of-type {\n        vertical-align: middle;\n    }\n\n    .dataframe tbody tr th {\n        vertical-align: top;\n    }\n\n    .dataframe thead th {\n        text-align: right;\n    }\n</style>\n<table border=\"1\" class=\"dataframe\">\n  <thead>\n    <tr style=\"text-align: right;\">\n      <th></th>\n      <th>BsmtQual</th>\n      <th>FireplaceQu</th>\n      <th>GarageType</th>\n      <th>SalePrice</th>\n    </tr>\n  </thead>\n  <tbody>\n    <tr>\n      <th>0</th>\n      <td>Gd</td>\n      <td>NaN</td>\n      <td>Attchd</td>\n      <td>208500</td>\n    </tr>\n    <tr>\n      <th>1</th>\n      <td>Gd</td>\n      <td>TA</td>\n      <td>Attchd</td>\n      <td>181500</td>\n    </tr>\n    <tr>\n      <th>2</th>\n      <td>Gd</td>\n      <td>TA</td>\n      <td>Attchd</td>\n      <td>223500</td>\n    </tr>\n    <tr>\n      <th>3</th>\n      <td>TA</td>\n      <td>Gd</td>\n      <td>Detchd</td>\n      <td>140000</td>\n    </tr>\n    <tr>\n      <th>4</th>\n      <td>Gd</td>\n      <td>TA</td>\n      <td>Attchd</td>\n      <td>250000</td>\n    </tr>\n  </tbody>\n</table>\n</div>"
          },
          "metadata": {}
        }
      ]
    },
    {
      "cell_type": "code",
      "source": "def impute_nan(df,variable):\n    df[variable+'_newvar']=np.where(df[variable].isnull(),'Missing',df[variable])\n    ",
      "metadata": {
        "trusted": true
      },
      "execution_count": 70,
      "outputs": []
    },
    {
      "cell_type": "code",
      "source": "for feature in ['BsmtQual','FireplaceQu','GarageType']:\n    impute_nan(df,feature)",
      "metadata": {
        "trusted": true
      },
      "execution_count": 71,
      "outputs": []
    },
    {
      "cell_type": "code",
      "source": "#A new feature missing is created so we drop the first 3 colums and use the rest and saleprice is dependent variable so we use the same\ndf.head()",
      "metadata": {
        "trusted": true
      },
      "execution_count": 72,
      "outputs": [
        {
          "execution_count": 72,
          "output_type": "execute_result",
          "data": {
            "text/plain": "  BsmtQual FireplaceQu GarageType  SalePrice BsmtQual_newvar  \\\n0       Gd         NaN     Attchd     208500              Gd   \n1       Gd          TA     Attchd     181500              Gd   \n2       Gd          TA     Attchd     223500              Gd   \n3       TA          Gd     Detchd     140000              TA   \n4       Gd          TA     Attchd     250000              Gd   \n\n  FireplaceQu_newvar GarageType_newvar  \n0            Missing            Attchd  \n1                 TA            Attchd  \n2                 TA            Attchd  \n3                 Gd            Detchd  \n4                 TA            Attchd  ",
            "text/html": "<div>\n<style scoped>\n    .dataframe tbody tr th:only-of-type {\n        vertical-align: middle;\n    }\n\n    .dataframe tbody tr th {\n        vertical-align: top;\n    }\n\n    .dataframe thead th {\n        text-align: right;\n    }\n</style>\n<table border=\"1\" class=\"dataframe\">\n  <thead>\n    <tr style=\"text-align: right;\">\n      <th></th>\n      <th>BsmtQual</th>\n      <th>FireplaceQu</th>\n      <th>GarageType</th>\n      <th>SalePrice</th>\n      <th>BsmtQual_newvar</th>\n      <th>FireplaceQu_newvar</th>\n      <th>GarageType_newvar</th>\n    </tr>\n  </thead>\n  <tbody>\n    <tr>\n      <th>0</th>\n      <td>Gd</td>\n      <td>NaN</td>\n      <td>Attchd</td>\n      <td>208500</td>\n      <td>Gd</td>\n      <td>Missing</td>\n      <td>Attchd</td>\n    </tr>\n    <tr>\n      <th>1</th>\n      <td>Gd</td>\n      <td>TA</td>\n      <td>Attchd</td>\n      <td>181500</td>\n      <td>Gd</td>\n      <td>TA</td>\n      <td>Attchd</td>\n    </tr>\n    <tr>\n      <th>2</th>\n      <td>Gd</td>\n      <td>TA</td>\n      <td>Attchd</td>\n      <td>223500</td>\n      <td>Gd</td>\n      <td>TA</td>\n      <td>Attchd</td>\n    </tr>\n    <tr>\n      <th>3</th>\n      <td>TA</td>\n      <td>Gd</td>\n      <td>Detchd</td>\n      <td>140000</td>\n      <td>TA</td>\n      <td>Gd</td>\n      <td>Detchd</td>\n    </tr>\n    <tr>\n      <th>4</th>\n      <td>Gd</td>\n      <td>TA</td>\n      <td>Attchd</td>\n      <td>250000</td>\n      <td>Gd</td>\n      <td>TA</td>\n      <td>Attchd</td>\n    </tr>\n  </tbody>\n</table>\n</div>"
          },
          "metadata": {}
        }
      ]
    },
    {
      "cell_type": "code",
      "source": "df=df.drop(['BsmtQual','FireplaceQu','GarageType'],axis=1)",
      "metadata": {
        "trusted": true
      },
      "execution_count": 76,
      "outputs": []
    },
    {
      "cell_type": "code",
      "source": "df.head()",
      "metadata": {
        "trusted": true
      },
      "execution_count": 77,
      "outputs": [
        {
          "execution_count": 77,
          "output_type": "execute_result",
          "data": {
            "text/plain": "   SalePrice BsmtQual_newvar FireplaceQu_newvar GarageType_newvar\n0     208500              Gd            Missing            Attchd\n1     181500              Gd                 TA            Attchd\n2     223500              Gd                 TA            Attchd\n3     140000              TA                 Gd            Detchd\n4     250000              Gd                 TA            Attchd",
            "text/html": "<div>\n<style scoped>\n    .dataframe tbody tr th:only-of-type {\n        vertical-align: middle;\n    }\n\n    .dataframe tbody tr th {\n        vertical-align: top;\n    }\n\n    .dataframe thead th {\n        text-align: right;\n    }\n</style>\n<table border=\"1\" class=\"dataframe\">\n  <thead>\n    <tr style=\"text-align: right;\">\n      <th></th>\n      <th>SalePrice</th>\n      <th>BsmtQual_newvar</th>\n      <th>FireplaceQu_newvar</th>\n      <th>GarageType_newvar</th>\n    </tr>\n  </thead>\n  <tbody>\n    <tr>\n      <th>0</th>\n      <td>208500</td>\n      <td>Gd</td>\n      <td>Missing</td>\n      <td>Attchd</td>\n    </tr>\n    <tr>\n      <th>1</th>\n      <td>181500</td>\n      <td>Gd</td>\n      <td>TA</td>\n      <td>Attchd</td>\n    </tr>\n    <tr>\n      <th>2</th>\n      <td>223500</td>\n      <td>Gd</td>\n      <td>TA</td>\n      <td>Attchd</td>\n    </tr>\n    <tr>\n      <th>3</th>\n      <td>140000</td>\n      <td>TA</td>\n      <td>Gd</td>\n      <td>Detchd</td>\n    </tr>\n    <tr>\n      <th>4</th>\n      <td>250000</td>\n      <td>Gd</td>\n      <td>TA</td>\n      <td>Attchd</td>\n    </tr>\n  </tbody>\n</table>\n</div>"
          },
          "metadata": {}
        }
      ]
    },
    {
      "cell_type": "code",
      "source": "",
      "metadata": {},
      "execution_count": null,
      "outputs": []
    }
  ]
}